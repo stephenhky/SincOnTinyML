{
 "metadata": {
  "language_info": {
   "codemirror_mode": {
    "name": "ipython",
    "version": 3
   },
   "file_extension": ".py",
   "mimetype": "text/x-python",
   "name": "python",
   "nbconvert_exporter": "python",
   "pygments_lexer": "ipython3",
   "version": "3.8.0"
  },
  "orig_nbformat": 2,
  "kernelspec": {
   "name": "nlp",
   "display_name": "Python 3.8 (nlp)",
   "language": "python"
  }
 },
 "nbformat": 4,
 "nbformat_minor": 2,
 "cells": [
  {
   "cell_type": "code",
   "execution_count": 1,
   "metadata": {},
   "outputs": [],
   "source": [
    "import numpy as np\n",
    "import tensorflow as tf\n",
    "from matplotlib import pyplot as plt\n",
    "%matplotlib inline"
   ]
  },
  {
   "cell_type": "code",
   "execution_count": 2,
   "metadata": {},
   "outputs": [],
   "source": [
    "sinc_model = tf.lite.Interpreter('sinc_model.tflite')\n",
    "quantized_sinc_model = tf.lite.Interpreter('quantized_sinc_model.tflite')"
   ]
  },
  {
   "cell_type": "code",
   "execution_count": 3,
   "metadata": {},
   "outputs": [],
   "source": [
    "sinc_model.allocate_tensors()"
   ]
  },
  {
   "cell_type": "code",
   "execution_count": 9,
   "metadata": {},
   "outputs": [
    {
     "output_type": "execute_result",
     "data": {
      "text/plain": [
       "[{'name': 'dense_input',\n",
       "  'index': 0,\n",
       "  'shape': array([1, 1], dtype=int32),\n",
       "  'shape_signature': array([-1,  1], dtype=int32),\n",
       "  'dtype': numpy.float32,\n",
       "  'quantization': (0.0, 0),\n",
       "  'quantization_parameters': {'scales': array([], dtype=float32),\n",
       "   'zero_points': array([], dtype=int32),\n",
       "   'quantized_dimension': 0},\n",
       "  'sparsity_parameters': {}}]"
      ]
     },
     "metadata": {},
     "execution_count": 9
    }
   ],
   "source": [
    "sinc_model.get_input_details()"
   ]
  },
  {
   "cell_type": "code",
   "execution_count": 10,
   "metadata": {},
   "outputs": [
    {
     "output_type": "execute_result",
     "data": {
      "text/plain": [
       "[{'name': 'Identity',\n",
       "  'index': 6,\n",
       "  'shape': array([1, 1], dtype=int32),\n",
       "  'shape_signature': array([-1,  1], dtype=int32),\n",
       "  'dtype': numpy.float32,\n",
       "  'quantization': (0.0, 0),\n",
       "  'quantization_parameters': {'scales': array([], dtype=float32),\n",
       "   'zero_points': array([], dtype=int32),\n",
       "   'quantized_dimension': 0},\n",
       "  'sparsity_parameters': {}}]"
      ]
     },
     "metadata": {},
     "execution_count": 10
    }
   ],
   "source": [
    "sinc_model.get_output_details()"
   ]
  },
  {
   "cell_type": "code",
   "execution_count": 4,
   "metadata": {},
   "outputs": [],
   "source": [
    "sinc_model_input_index = sinc_model.get_input_details()[0]['index']"
   ]
  },
  {
   "cell_type": "code",
   "execution_count": 7,
   "metadata": {},
   "outputs": [],
   "source": [
    "sinc_model_output_index = sinc_model.get_output_details()[0]['index']"
   ]
  },
  {
   "cell_type": "code",
   "execution_count": 11,
   "metadata": {},
   "outputs": [],
   "source": [
    "sinc_model_predictions = []"
   ]
  },
  {
   "cell_type": "code",
   "execution_count": 12,
   "metadata": {},
   "outputs": [],
   "source": [
    "xarray = np.linspace(-10, 10, 101)"
   ]
  },
  {
   "cell_type": "code",
   "execution_count": 13,
   "metadata": {},
   "outputs": [],
   "source": [
    "for x_value in xarray:\n",
    "    x_value_tensor = tf.convert_to_tensor([[x_value]], dtype=np.float32)\n",
    "    sinc_model.set_tensor(sinc_model_input_index, x_value_tensor)\n",
    "    sinc_model.invoke()\n",
    "    prediction = sinc_model.get_tensor(sinc_model_output_index)[0]\n",
    "    sinc_model_predictions.append(prediction)"
   ]
  },
  {
   "cell_type": "code",
   "execution_count": 14,
   "metadata": {},
   "outputs": [
    {
     "output_type": "execute_result",
     "data": {
      "text/plain": [
       "<matplotlib.collections.PathCollection at 0x7f90a0b439d0>"
      ]
     },
     "metadata": {},
     "execution_count": 14
    },
    {
     "output_type": "display_data",
     "data": {
      "text/plain": "<Figure size 432x288 with 1 Axes>",
      "image/svg+xml": "<?xml version=\"1.0\" encoding=\"utf-8\" standalone=\"no\"?>\n<!DOCTYPE svg PUBLIC \"-//W3C//DTD SVG 1.1//EN\"\n  \"http://www.w3.org/Graphics/SVG/1.1/DTD/svg11.dtd\">\n<svg height=\"248.518125pt\" version=\"1.1\" viewBox=\"0 0 380.482812 248.518125\" width=\"380.482812pt\" xmlns=\"http://www.w3.org/2000/svg\" xmlns:xlink=\"http://www.w3.org/1999/xlink\">\n <metadata>\n  <rdf:RDF xmlns:cc=\"http://creativecommons.org/ns#\" xmlns:dc=\"http://purl.org/dc/elements/1.1/\" xmlns:rdf=\"http://www.w3.org/1999/02/22-rdf-syntax-ns#\">\n   <cc:Work>\n    <dc:type rdf:resource=\"http://purl.org/dc/dcmitype/StillImage\"/>\n    <dc:date>2021-04-02T16:35:56.045632</dc:date>\n    <dc:format>image/svg+xml</dc:format>\n    <dc:creator>\n     <cc:Agent>\n      <dc:title>Matplotlib v3.4.1, https://matplotlib.org/</dc:title>\n     </cc:Agent>\n    </dc:creator>\n   </cc:Work>\n  </rdf:RDF>\n </metadata>\n <defs>\n  <style type=\"text/css\">*{stroke-linecap:butt;stroke-linejoin:round;}</style>\n </defs>\n <g id=\"figure_1\">\n  <g id=\"patch_1\">\n   <path d=\"M -0 248.518125 \nL 380.482812 248.518125 \nL 380.482812 0 \nL -0 0 \nz\n\" style=\"fill:none;\"/>\n  </g>\n  <g id=\"axes_1\">\n   <g id=\"patch_2\">\n    <path d=\"M 38.482813 224.64 \nL 373.282813 224.64 \nL 373.282813 7.2 \nL 38.482813 7.2 \nz\n\" style=\"fill:#ffffff;\"/>\n   </g>\n   <g id=\"PathCollection_1\">\n    <defs>\n     <path d=\"M 0 0.158114 \nC 0.041932 0.158114 0.082153 0.141454 0.111803 0.111803 \nC 0.141454 0.082153 0.158114 0.041932 0.158114 0 \nC 0.158114 -0.041932 0.141454 -0.082153 0.111803 -0.111803 \nC 0.082153 -0.141454 0.041932 -0.158114 0 -0.158114 \nC -0.041932 -0.158114 -0.082153 -0.141454 -0.111803 -0.111803 \nC -0.141454 -0.082153 -0.158114 -0.041932 -0.158114 0 \nC -0.158114 0.041932 -0.141454 0.082153 -0.111803 0.111803 \nC -0.082153 0.141454 -0.041932 0.158114 0 0.158114 \nz\n\" id=\"m92a7ad41b1\" style=\"stroke:#1f77b4;\"/>\n    </defs>\n    <g clip-path=\"url(#pa8f11466d8)\">\n     <use style=\"fill:#1f77b4;stroke:#1f77b4;\" x=\"53.700994\" xlink:href=\"#m92a7ad41b1\" y=\"187.661063\"/>\n     <use style=\"fill:#1f77b4;stroke:#1f77b4;\" x=\"56.744631\" xlink:href=\"#m92a7ad41b1\" y=\"185.273755\"/>\n     <use style=\"fill:#1f77b4;stroke:#1f77b4;\" x=\"59.788267\" xlink:href=\"#m92a7ad41b1\" y=\"182.88641\"/>\n     <use style=\"fill:#1f77b4;stroke:#1f77b4;\" x=\"62.831903\" xlink:href=\"#m92a7ad41b1\" y=\"180.498931\"/>\n     <use style=\"fill:#1f77b4;stroke:#1f77b4;\" x=\"65.87554\" xlink:href=\"#m92a7ad41b1\" y=\"178.111691\"/>\n     <use style=\"fill:#1f77b4;stroke:#1f77b4;\" x=\"68.919176\" xlink:href=\"#m92a7ad41b1\" y=\"175.724336\"/>\n     <use style=\"fill:#1f77b4;stroke:#1f77b4;\" x=\"71.962812\" xlink:href=\"#m92a7ad41b1\" y=\"173.336952\"/>\n     <use style=\"fill:#1f77b4;stroke:#1f77b4;\" x=\"75.006449\" xlink:href=\"#m92a7ad41b1\" y=\"170.949578\"/>\n     <use style=\"fill:#1f77b4;stroke:#1f77b4;\" x=\"78.050085\" xlink:href=\"#m92a7ad41b1\" y=\"168.562194\"/>\n     <use style=\"fill:#1f77b4;stroke:#1f77b4;\" x=\"81.093722\" xlink:href=\"#m92a7ad41b1\" y=\"166.174935\"/>\n     <use style=\"fill:#1f77b4;stroke:#1f77b4;\" x=\"84.137358\" xlink:href=\"#m92a7ad41b1\" y=\"163.787503\"/>\n     <use style=\"fill:#1f77b4;stroke:#1f77b4;\" x=\"87.180994\" xlink:href=\"#m92a7ad41b1\" y=\"161.40012\"/>\n     <use style=\"fill:#1f77b4;stroke:#1f77b4;\" x=\"90.224631\" xlink:href=\"#m92a7ad41b1\" y=\"159.012822\"/>\n     <use style=\"fill:#1f77b4;stroke:#1f77b4;\" x=\"93.268267\" xlink:href=\"#m92a7ad41b1\" y=\"158.55435\"/>\n     <use style=\"fill:#1f77b4;stroke:#1f77b4;\" x=\"96.311903\" xlink:href=\"#m92a7ad41b1\" y=\"162.829267\"/>\n     <use style=\"fill:#1f77b4;stroke:#1f77b4;\" x=\"99.35554\" xlink:href=\"#m92a7ad41b1\" y=\"167.104337\"/>\n     <use style=\"fill:#1f77b4;stroke:#1f77b4;\" x=\"102.399176\" xlink:href=\"#m92a7ad41b1\" y=\"171.379263\"/>\n     <use style=\"fill:#1f77b4;stroke:#1f77b4;\" x=\"105.442813\" xlink:href=\"#m92a7ad41b1\" y=\"175.65417\"/>\n     <use style=\"fill:#1f77b4;stroke:#1f77b4;\" x=\"108.486449\" xlink:href=\"#m92a7ad41b1\" y=\"179.92923\"/>\n     <use style=\"fill:#1f77b4;stroke:#1f77b4;\" x=\"111.530085\" xlink:href=\"#m92a7ad41b1\" y=\"184.204195\"/>\n     <use style=\"fill:#1f77b4;stroke:#1f77b4;\" x=\"114.573722\" xlink:href=\"#m92a7ad41b1\" y=\"188.479111\"/>\n     <use style=\"fill:#1f77b4;stroke:#1f77b4;\" x=\"117.617358\" xlink:href=\"#m92a7ad41b1\" y=\"192.754124\"/>\n     <use style=\"fill:#1f77b4;stroke:#1f77b4;\" x=\"120.660994\" xlink:href=\"#m92a7ad41b1\" y=\"197.029088\"/>\n     <use style=\"fill:#1f77b4;stroke:#1f77b4;\" x=\"123.704631\" xlink:href=\"#m92a7ad41b1\" y=\"201.304091\"/>\n     <use style=\"fill:#1f77b4;stroke:#1f77b4;\" x=\"126.748267\" xlink:href=\"#m92a7ad41b1\" y=\"205.579074\"/>\n     <use style=\"fill:#1f77b4;stroke:#1f77b4;\" x=\"129.791903\" xlink:href=\"#m92a7ad41b1\" y=\"209.854058\"/>\n     <use style=\"fill:#1f77b4;stroke:#1f77b4;\" x=\"132.83554\" xlink:href=\"#m92a7ad41b1\" y=\"213.102813\"/>\n     <use style=\"fill:#1f77b4;stroke:#1f77b4;\" x=\"135.879176\" xlink:href=\"#m92a7ad41b1\" y=\"214.756364\"/>\n     <use style=\"fill:#1f77b4;stroke:#1f77b4;\" x=\"138.922813\" xlink:href=\"#m92a7ad41b1\" y=\"214.621924\"/>\n     <use style=\"fill:#1f77b4;stroke:#1f77b4;\" x=\"141.966449\" xlink:href=\"#m92a7ad41b1\" y=\"212.084992\"/>\n     <use style=\"fill:#1f77b4;stroke:#1f77b4;\" x=\"145.010085\" xlink:href=\"#m92a7ad41b1\" y=\"209.547965\"/>\n     <use style=\"fill:#1f77b4;stroke:#1f77b4;\" x=\"148.053722\" xlink:href=\"#m92a7ad41b1\" y=\"207.010995\"/>\n     <use style=\"fill:#1f77b4;stroke:#1f77b4;\" x=\"151.097358\" xlink:href=\"#m92a7ad41b1\" y=\"204.473978\"/>\n     <use style=\"fill:#1f77b4;stroke:#1f77b4;\" x=\"154.140994\" xlink:href=\"#m92a7ad41b1\" y=\"196.170519\"/>\n     <use style=\"fill:#1f77b4;stroke:#1f77b4;\" x=\"157.184631\" xlink:href=\"#m92a7ad41b1\" y=\"183.569857\"/>\n     <use style=\"fill:#1f77b4;stroke:#1f77b4;\" x=\"160.228267\" xlink:href=\"#m92a7ad41b1\" y=\"170.969176\"/>\n     <use style=\"fill:#1f77b4;stroke:#1f77b4;\" x=\"163.271903\" xlink:href=\"#m92a7ad41b1\" y=\"158.368485\"/>\n     <use style=\"fill:#1f77b4;stroke:#1f77b4;\" x=\"166.31554\" xlink:href=\"#m92a7ad41b1\" y=\"145.767804\"/>\n     <use style=\"fill:#1f77b4;stroke:#1f77b4;\" x=\"169.359176\" xlink:href=\"#m92a7ad41b1\" y=\"133.167171\"/>\n     <use style=\"fill:#1f77b4;stroke:#1f77b4;\" x=\"172.402813\" xlink:href=\"#m92a7ad41b1\" y=\"120.566471\"/>\n     <use style=\"fill:#1f77b4;stroke:#1f77b4;\" x=\"175.446449\" xlink:href=\"#m92a7ad41b1\" y=\"107.96579\"/>\n     <use style=\"fill:#1f77b4;stroke:#1f77b4;\" x=\"178.490085\" xlink:href=\"#m92a7ad41b1\" y=\"95.365128\"/>\n     <use style=\"fill:#1f77b4;stroke:#1f77b4;\" x=\"181.533722\" xlink:href=\"#m92a7ad41b1\" y=\"82.764466\"/>\n     <use style=\"fill:#1f77b4;stroke:#1f77b4;\" x=\"184.577358\" xlink:href=\"#m92a7ad41b1\" y=\"70.163785\"/>\n     <use style=\"fill:#1f77b4;stroke:#1f77b4;\" x=\"187.620994\" xlink:href=\"#m92a7ad41b1\" y=\"57.563104\"/>\n     <use style=\"fill:#1f77b4;stroke:#1f77b4;\" x=\"190.664631\" xlink:href=\"#m92a7ad41b1\" y=\"44.962442\"/>\n     <use style=\"fill:#1f77b4;stroke:#1f77b4;\" x=\"193.708267\" xlink:href=\"#m92a7ad41b1\" y=\"37.406361\"/>\n     <use style=\"fill:#1f77b4;stroke:#1f77b4;\" x=\"196.751903\" xlink:href=\"#m92a7ad41b1\" y=\"30.52999\"/>\n     <use style=\"fill:#1f77b4;stroke:#1f77b4;\" x=\"199.79554\" xlink:href=\"#m92a7ad41b1\" y=\"25.906248\"/>\n     <use style=\"fill:#1f77b4;stroke:#1f77b4;\" x=\"202.839176\" xlink:href=\"#m92a7ad41b1\" y=\"21.494938\"/>\n     <use style=\"fill:#1f77b4;stroke:#1f77b4;\" x=\"205.882812\" xlink:href=\"#m92a7ad41b1\" y=\"17.083636\"/>\n     <use style=\"fill:#1f77b4;stroke:#1f77b4;\" x=\"208.926449\" xlink:href=\"#m92a7ad41b1\" y=\"19.75191\"/>\n     <use style=\"fill:#1f77b4;stroke:#1f77b4;\" x=\"211.970085\" xlink:href=\"#m92a7ad41b1\" y=\"25.238834\"/>\n     <use style=\"fill:#1f77b4;stroke:#1f77b4;\" x=\"215.013722\" xlink:href=\"#m92a7ad41b1\" y=\"30.725778\"/>\n     <use style=\"fill:#1f77b4;stroke:#1f77b4;\" x=\"218.057358\" xlink:href=\"#m92a7ad41b1\" y=\"36.212721\"/>\n     <use style=\"fill:#1f77b4;stroke:#1f77b4;\" x=\"221.100994\" xlink:href=\"#m92a7ad41b1\" y=\"46.147083\"/>\n     <use style=\"fill:#1f77b4;stroke:#1f77b4;\" x=\"224.144631\" xlink:href=\"#m92a7ad41b1\" y=\"57.045495\"/>\n     <use style=\"fill:#1f77b4;stroke:#1f77b4;\" x=\"227.188267\" xlink:href=\"#m92a7ad41b1\" y=\"69.798517\"/>\n     <use style=\"fill:#1f77b4;stroke:#1f77b4;\" x=\"230.231903\" xlink:href=\"#m92a7ad41b1\" y=\"82.551482\"/>\n     <use style=\"fill:#1f77b4;stroke:#1f77b4;\" x=\"233.27554\" xlink:href=\"#m92a7ad41b1\" y=\"95.304504\"/>\n     <use style=\"fill:#1f77b4;stroke:#1f77b4;\" x=\"236.319176\" xlink:href=\"#m92a7ad41b1\" y=\"108.057545\"/>\n     <use style=\"fill:#1f77b4;stroke:#1f77b4;\" x=\"239.362813\" xlink:href=\"#m92a7ad41b1\" y=\"120.810529\"/>\n     <use style=\"fill:#1f77b4;stroke:#1f77b4;\" x=\"242.406449\" xlink:href=\"#m92a7ad41b1\" y=\"133.563541\"/>\n     <use style=\"fill:#1f77b4;stroke:#1f77b4;\" x=\"245.450085\" xlink:href=\"#m92a7ad41b1\" y=\"146.316516\"/>\n     <use style=\"fill:#1f77b4;stroke:#1f77b4;\" x=\"248.493722\" xlink:href=\"#m92a7ad41b1\" y=\"159.069538\"/>\n     <use style=\"fill:#1f77b4;stroke:#1f77b4;\" x=\"251.537358\" xlink:href=\"#m92a7ad41b1\" y=\"171.822541\"/>\n     <use style=\"fill:#1f77b4;stroke:#1f77b4;\" x=\"254.580994\" xlink:href=\"#m92a7ad41b1\" y=\"183.145357\"/>\n     <use style=\"fill:#1f77b4;stroke:#1f77b4;\" x=\"257.624631\" xlink:href=\"#m92a7ad41b1\" y=\"189.30959\"/>\n     <use style=\"fill:#1f77b4;stroke:#1f77b4;\" x=\"260.668267\" xlink:href=\"#m92a7ad41b1\" y=\"189.863859\"/>\n     <use style=\"fill:#1f77b4;stroke:#1f77b4;\" x=\"263.711903\" xlink:href=\"#m92a7ad41b1\" y=\"189.705455\"/>\n     <use style=\"fill:#1f77b4;stroke:#1f77b4;\" x=\"266.75554\" xlink:href=\"#m92a7ad41b1\" y=\"189.547042\"/>\n     <use style=\"fill:#1f77b4;stroke:#1f77b4;\" x=\"269.799176\" xlink:href=\"#m92a7ad41b1\" y=\"189.388649\"/>\n     <use style=\"fill:#1f77b4;stroke:#1f77b4;\" x=\"272.842813\" xlink:href=\"#m92a7ad41b1\" y=\"189.230245\"/>\n     <use style=\"fill:#1f77b4;stroke:#1f77b4;\" x=\"275.886449\" xlink:href=\"#m92a7ad41b1\" y=\"189.071851\"/>\n     <use style=\"fill:#1f77b4;stroke:#1f77b4;\" x=\"278.930085\" xlink:href=\"#m92a7ad41b1\" y=\"188.913448\"/>\n     <use style=\"fill:#1f77b4;stroke:#1f77b4;\" x=\"281.973722\" xlink:href=\"#m92a7ad41b1\" y=\"188.755035\"/>\n     <use style=\"fill:#1f77b4;stroke:#1f77b4;\" x=\"285.017358\" xlink:href=\"#m92a7ad41b1\" y=\"188.596632\"/>\n     <use style=\"fill:#1f77b4;stroke:#1f77b4;\" x=\"288.060994\" xlink:href=\"#m92a7ad41b1\" y=\"188.438209\"/>\n     <use style=\"fill:#1f77b4;stroke:#1f77b4;\" x=\"291.104631\" xlink:href=\"#m92a7ad41b1\" y=\"188.279816\"/>\n     <use style=\"fill:#1f77b4;stroke:#1f77b4;\" x=\"294.148267\" xlink:href=\"#m92a7ad41b1\" y=\"188.121422\"/>\n     <use style=\"fill:#1f77b4;stroke:#1f77b4;\" x=\"297.191903\" xlink:href=\"#m92a7ad41b1\" y=\"187.963028\"/>\n     <use style=\"fill:#1f77b4;stroke:#1f77b4;\" x=\"300.23554\" xlink:href=\"#m92a7ad41b1\" y=\"187.804596\"/>\n     <use style=\"fill:#1f77b4;stroke:#1f77b4;\" x=\"303.279176\" xlink:href=\"#m92a7ad41b1\" y=\"187.646193\"/>\n     <use style=\"fill:#1f77b4;stroke:#1f77b4;\" x=\"306.322813\" xlink:href=\"#m92a7ad41b1\" y=\"187.48778\"/>\n     <use style=\"fill:#1f77b4;stroke:#1f77b4;\" x=\"309.366449\" xlink:href=\"#m92a7ad41b1\" y=\"187.329386\"/>\n     <use style=\"fill:#1f77b4;stroke:#1f77b4;\" x=\"312.410085\" xlink:href=\"#m92a7ad41b1\" y=\"187.170964\"/>\n     <use style=\"fill:#1f77b4;stroke:#1f77b4;\" x=\"315.453722\" xlink:href=\"#m92a7ad41b1\" y=\"187.01256\"/>\n     <use style=\"fill:#1f77b4;stroke:#1f77b4;\" x=\"318.497358\" xlink:href=\"#m92a7ad41b1\" y=\"186.854138\"/>\n     <use style=\"fill:#1f77b4;stroke:#1f77b4;\" x=\"321.540994\" xlink:href=\"#m92a7ad41b1\" y=\"186.695744\"/>\n     <use style=\"fill:#1f77b4;stroke:#1f77b4;\" x=\"324.584631\" xlink:href=\"#m92a7ad41b1\" y=\"186.537331\"/>\n     <use style=\"fill:#1f77b4;stroke:#1f77b4;\" x=\"327.628267\" xlink:href=\"#m92a7ad41b1\" y=\"186.378928\"/>\n     <use style=\"fill:#1f77b4;stroke:#1f77b4;\" x=\"330.671903\" xlink:href=\"#m92a7ad41b1\" y=\"186.220582\"/>\n     <use style=\"fill:#1f77b4;stroke:#1f77b4;\" x=\"333.71554\" xlink:href=\"#m92a7ad41b1\" y=\"186.062131\"/>\n     <use style=\"fill:#1f77b4;stroke:#1f77b4;\" x=\"336.759176\" xlink:href=\"#m92a7ad41b1\" y=\"185.903718\"/>\n     <use style=\"fill:#1f77b4;stroke:#1f77b4;\" x=\"339.802813\" xlink:href=\"#m92a7ad41b1\" y=\"185.745353\"/>\n     <use style=\"fill:#1f77b4;stroke:#1f77b4;\" x=\"342.846449\" xlink:href=\"#m92a7ad41b1\" y=\"185.58693\"/>\n     <use style=\"fill:#1f77b4;stroke:#1f77b4;\" x=\"345.890085\" xlink:href=\"#m92a7ad41b1\" y=\"185.428537\"/>\n     <use style=\"fill:#1f77b4;stroke:#1f77b4;\" x=\"348.933722\" xlink:href=\"#m92a7ad41b1\" y=\"185.270105\"/>\n     <use style=\"fill:#1f77b4;stroke:#1f77b4;\" x=\"351.977358\" xlink:href=\"#m92a7ad41b1\" y=\"185.111682\"/>\n     <use style=\"fill:#1f77b4;stroke:#1f77b4;\" x=\"355.020994\" xlink:href=\"#m92a7ad41b1\" y=\"184.953317\"/>\n     <use style=\"fill:#1f77b4;stroke:#1f77b4;\" x=\"358.064631\" xlink:href=\"#m92a7ad41b1\" y=\"184.794857\"/>\n    </g>\n   </g>\n   <g id=\"matplotlib.axis_1\">\n    <g id=\"xtick_1\">\n     <g id=\"line2d_1\">\n      <defs>\n       <path d=\"M 0 0 \nL 0 3.5 \n\" id=\"mea6a0ef168\" style=\"stroke:#000000;stroke-width:0.8;\"/>\n      </defs>\n      <g>\n       <use style=\"stroke:#000000;stroke-width:0.8;\" x=\"53.700994\" xlink:href=\"#mea6a0ef168\" y=\"224.64\"/>\n      </g>\n     </g>\n     <g id=\"text_1\">\n      <!-- −10.0 -->\n      <g transform=\"translate(38.378338 239.238438)scale(0.1 -0.1)\">\n       <defs>\n        <path d=\"M 678 2272 \nL 4684 2272 \nL 4684 1741 \nL 678 1741 \nL 678 2272 \nz\n\" id=\"DejaVuSans-2212\" transform=\"scale(0.015625)\"/>\n        <path d=\"M 794 531 \nL 1825 531 \nL 1825 4091 \nL 703 3866 \nL 703 4441 \nL 1819 4666 \nL 2450 4666 \nL 2450 531 \nL 3481 531 \nL 3481 0 \nL 794 0 \nL 794 531 \nz\n\" id=\"DejaVuSans-31\" transform=\"scale(0.015625)\"/>\n        <path d=\"M 2034 4250 \nQ 1547 4250 1301 3770 \nQ 1056 3291 1056 2328 \nQ 1056 1369 1301 889 \nQ 1547 409 2034 409 \nQ 2525 409 2770 889 \nQ 3016 1369 3016 2328 \nQ 3016 3291 2770 3770 \nQ 2525 4250 2034 4250 \nz\nM 2034 4750 \nQ 2819 4750 3233 4129 \nQ 3647 3509 3647 2328 \nQ 3647 1150 3233 529 \nQ 2819 -91 2034 -91 \nQ 1250 -91 836 529 \nQ 422 1150 422 2328 \nQ 422 3509 836 4129 \nQ 1250 4750 2034 4750 \nz\n\" id=\"DejaVuSans-30\" transform=\"scale(0.015625)\"/>\n        <path d=\"M 684 794 \nL 1344 794 \nL 1344 0 \nL 684 0 \nL 684 794 \nz\n\" id=\"DejaVuSans-2e\" transform=\"scale(0.015625)\"/>\n       </defs>\n       <use xlink:href=\"#DejaVuSans-2212\"/>\n       <use x=\"83.789062\" xlink:href=\"#DejaVuSans-31\"/>\n       <use x=\"147.412109\" xlink:href=\"#DejaVuSans-30\"/>\n       <use x=\"211.035156\" xlink:href=\"#DejaVuSans-2e\"/>\n       <use x=\"242.822266\" xlink:href=\"#DejaVuSans-30\"/>\n      </g>\n     </g>\n    </g>\n    <g id=\"xtick_2\">\n     <g id=\"line2d_2\">\n      <g>\n       <use style=\"stroke:#000000;stroke-width:0.8;\" x=\"91.746449\" xlink:href=\"#mea6a0ef168\" y=\"224.64\"/>\n      </g>\n     </g>\n     <g id=\"text_2\">\n      <!-- −7.5 -->\n      <g transform=\"translate(79.605043 239.238438)scale(0.1 -0.1)\">\n       <defs>\n        <path d=\"M 525 4666 \nL 3525 4666 \nL 3525 4397 \nL 1831 0 \nL 1172 0 \nL 2766 4134 \nL 525 4134 \nL 525 4666 \nz\n\" id=\"DejaVuSans-37\" transform=\"scale(0.015625)\"/>\n        <path d=\"M 691 4666 \nL 3169 4666 \nL 3169 4134 \nL 1269 4134 \nL 1269 2991 \nQ 1406 3038 1543 3061 \nQ 1681 3084 1819 3084 \nQ 2600 3084 3056 2656 \nQ 3513 2228 3513 1497 \nQ 3513 744 3044 326 \nQ 2575 -91 1722 -91 \nQ 1428 -91 1123 -41 \nQ 819 9 494 109 \nL 494 744 \nQ 775 591 1075 516 \nQ 1375 441 1709 441 \nQ 2250 441 2565 725 \nQ 2881 1009 2881 1497 \nQ 2881 1984 2565 2268 \nQ 2250 2553 1709 2553 \nQ 1456 2553 1204 2497 \nQ 953 2441 691 2322 \nL 691 4666 \nz\n\" id=\"DejaVuSans-35\" transform=\"scale(0.015625)\"/>\n       </defs>\n       <use xlink:href=\"#DejaVuSans-2212\"/>\n       <use x=\"83.789062\" xlink:href=\"#DejaVuSans-37\"/>\n       <use x=\"147.412109\" xlink:href=\"#DejaVuSans-2e\"/>\n       <use x=\"179.199219\" xlink:href=\"#DejaVuSans-35\"/>\n      </g>\n     </g>\n    </g>\n    <g id=\"xtick_3\">\n     <g id=\"line2d_3\">\n      <g>\n       <use style=\"stroke:#000000;stroke-width:0.8;\" x=\"129.791903\" xlink:href=\"#mea6a0ef168\" y=\"224.64\"/>\n      </g>\n     </g>\n     <g id=\"text_3\">\n      <!-- −5.0 -->\n      <g transform=\"translate(117.650497 239.238438)scale(0.1 -0.1)\">\n       <use xlink:href=\"#DejaVuSans-2212\"/>\n       <use x=\"83.789062\" xlink:href=\"#DejaVuSans-35\"/>\n       <use x=\"147.412109\" xlink:href=\"#DejaVuSans-2e\"/>\n       <use x=\"179.199219\" xlink:href=\"#DejaVuSans-30\"/>\n      </g>\n     </g>\n    </g>\n    <g id=\"xtick_4\">\n     <g id=\"line2d_4\">\n      <g>\n       <use style=\"stroke:#000000;stroke-width:0.8;\" x=\"167.837358\" xlink:href=\"#mea6a0ef168\" y=\"224.64\"/>\n      </g>\n     </g>\n     <g id=\"text_4\">\n      <!-- −2.5 -->\n      <g transform=\"translate(155.695952 239.238438)scale(0.1 -0.1)\">\n       <defs>\n        <path d=\"M 1228 531 \nL 3431 531 \nL 3431 0 \nL 469 0 \nL 469 531 \nQ 828 903 1448 1529 \nQ 2069 2156 2228 2338 \nQ 2531 2678 2651 2914 \nQ 2772 3150 2772 3378 \nQ 2772 3750 2511 3984 \nQ 2250 4219 1831 4219 \nQ 1534 4219 1204 4116 \nQ 875 4013 500 3803 \nL 500 4441 \nQ 881 4594 1212 4672 \nQ 1544 4750 1819 4750 \nQ 2544 4750 2975 4387 \nQ 3406 4025 3406 3419 \nQ 3406 3131 3298 2873 \nQ 3191 2616 2906 2266 \nQ 2828 2175 2409 1742 \nQ 1991 1309 1228 531 \nz\n\" id=\"DejaVuSans-32\" transform=\"scale(0.015625)\"/>\n       </defs>\n       <use xlink:href=\"#DejaVuSans-2212\"/>\n       <use x=\"83.789062\" xlink:href=\"#DejaVuSans-32\"/>\n       <use x=\"147.412109\" xlink:href=\"#DejaVuSans-2e\"/>\n       <use x=\"179.199219\" xlink:href=\"#DejaVuSans-35\"/>\n      </g>\n     </g>\n    </g>\n    <g id=\"xtick_5\">\n     <g id=\"line2d_5\">\n      <g>\n       <use style=\"stroke:#000000;stroke-width:0.8;\" x=\"205.882812\" xlink:href=\"#mea6a0ef168\" y=\"224.64\"/>\n      </g>\n     </g>\n     <g id=\"text_5\">\n      <!-- 0.0 -->\n      <g transform=\"translate(197.93125 239.238438)scale(0.1 -0.1)\">\n       <use xlink:href=\"#DejaVuSans-30\"/>\n       <use x=\"63.623047\" xlink:href=\"#DejaVuSans-2e\"/>\n       <use x=\"95.410156\" xlink:href=\"#DejaVuSans-30\"/>\n      </g>\n     </g>\n    </g>\n    <g id=\"xtick_6\">\n     <g id=\"line2d_6\">\n      <g>\n       <use style=\"stroke:#000000;stroke-width:0.8;\" x=\"243.928267\" xlink:href=\"#mea6a0ef168\" y=\"224.64\"/>\n      </g>\n     </g>\n     <g id=\"text_6\">\n      <!-- 2.5 -->\n      <g transform=\"translate(235.976705 239.238438)scale(0.1 -0.1)\">\n       <use xlink:href=\"#DejaVuSans-32\"/>\n       <use x=\"63.623047\" xlink:href=\"#DejaVuSans-2e\"/>\n       <use x=\"95.410156\" xlink:href=\"#DejaVuSans-35\"/>\n      </g>\n     </g>\n    </g>\n    <g id=\"xtick_7\">\n     <g id=\"line2d_7\">\n      <g>\n       <use style=\"stroke:#000000;stroke-width:0.8;\" x=\"281.973722\" xlink:href=\"#mea6a0ef168\" y=\"224.64\"/>\n      </g>\n     </g>\n     <g id=\"text_7\">\n      <!-- 5.0 -->\n      <g transform=\"translate(274.022159 239.238438)scale(0.1 -0.1)\">\n       <use xlink:href=\"#DejaVuSans-35\"/>\n       <use x=\"63.623047\" xlink:href=\"#DejaVuSans-2e\"/>\n       <use x=\"95.410156\" xlink:href=\"#DejaVuSans-30\"/>\n      </g>\n     </g>\n    </g>\n    <g id=\"xtick_8\">\n     <g id=\"line2d_8\">\n      <g>\n       <use style=\"stroke:#000000;stroke-width:0.8;\" x=\"320.019176\" xlink:href=\"#mea6a0ef168\" y=\"224.64\"/>\n      </g>\n     </g>\n     <g id=\"text_8\">\n      <!-- 7.5 -->\n      <g transform=\"translate(312.067614 239.238438)scale(0.1 -0.1)\">\n       <use xlink:href=\"#DejaVuSans-37\"/>\n       <use x=\"63.623047\" xlink:href=\"#DejaVuSans-2e\"/>\n       <use x=\"95.410156\" xlink:href=\"#DejaVuSans-35\"/>\n      </g>\n     </g>\n    </g>\n    <g id=\"xtick_9\">\n     <g id=\"line2d_9\">\n      <g>\n       <use style=\"stroke:#000000;stroke-width:0.8;\" x=\"358.064631\" xlink:href=\"#mea6a0ef168\" y=\"224.64\"/>\n      </g>\n     </g>\n     <g id=\"text_9\">\n      <!-- 10.0 -->\n      <g transform=\"translate(346.931818 239.238438)scale(0.1 -0.1)\">\n       <use xlink:href=\"#DejaVuSans-31\"/>\n       <use x=\"63.623047\" xlink:href=\"#DejaVuSans-30\"/>\n       <use x=\"127.246094\" xlink:href=\"#DejaVuSans-2e\"/>\n       <use x=\"159.033203\" xlink:href=\"#DejaVuSans-30\"/>\n      </g>\n     </g>\n    </g>\n   </g>\n   <g id=\"matplotlib.axis_2\">\n    <g id=\"ytick_1\">\n     <g id=\"line2d_10\">\n      <defs>\n       <path d=\"M 0 0 \nL -3.5 0 \n\" id=\"ma1385e7604\" style=\"stroke:#000000;stroke-width:0.8;\"/>\n      </defs>\n      <g>\n       <use style=\"stroke:#000000;stroke-width:0.8;\" x=\"38.482813\" xlink:href=\"#ma1385e7604\" y=\"211.034545\"/>\n      </g>\n     </g>\n     <g id=\"text_10\">\n      <!-- −0.2 -->\n      <g transform=\"translate(7.2 214.833764)scale(0.1 -0.1)\">\n       <use xlink:href=\"#DejaVuSans-2212\"/>\n       <use x=\"83.789062\" xlink:href=\"#DejaVuSans-30\"/>\n       <use x=\"147.412109\" xlink:href=\"#DejaVuSans-2e\"/>\n       <use x=\"179.199219\" xlink:href=\"#DejaVuSans-32\"/>\n      </g>\n     </g>\n    </g>\n    <g id=\"ytick_2\">\n     <g id=\"line2d_11\">\n      <g>\n       <use style=\"stroke:#000000;stroke-width:0.8;\" x=\"38.482813\" xlink:href=\"#ma1385e7604\" y=\"179.050348\"/>\n      </g>\n     </g>\n     <g id=\"text_11\">\n      <!-- 0.0 -->\n      <g transform=\"translate(15.579688 182.849567)scale(0.1 -0.1)\">\n       <use xlink:href=\"#DejaVuSans-30\"/>\n       <use x=\"63.623047\" xlink:href=\"#DejaVuSans-2e\"/>\n       <use x=\"95.410156\" xlink:href=\"#DejaVuSans-30\"/>\n      </g>\n     </g>\n    </g>\n    <g id=\"ytick_3\">\n     <g id=\"line2d_12\">\n      <g>\n       <use style=\"stroke:#000000;stroke-width:0.8;\" x=\"38.482813\" xlink:href=\"#ma1385e7604\" y=\"147.066151\"/>\n      </g>\n     </g>\n     <g id=\"text_12\">\n      <!-- 0.2 -->\n      <g transform=\"translate(15.579688 150.86537)scale(0.1 -0.1)\">\n       <use xlink:href=\"#DejaVuSans-30\"/>\n       <use x=\"63.623047\" xlink:href=\"#DejaVuSans-2e\"/>\n       <use x=\"95.410156\" xlink:href=\"#DejaVuSans-32\"/>\n      </g>\n     </g>\n    </g>\n    <g id=\"ytick_4\">\n     <g id=\"line2d_13\">\n      <g>\n       <use style=\"stroke:#000000;stroke-width:0.8;\" x=\"38.482813\" xlink:href=\"#ma1385e7604\" y=\"115.081954\"/>\n      </g>\n     </g>\n     <g id=\"text_13\">\n      <!-- 0.4 -->\n      <g transform=\"translate(15.579688 118.881173)scale(0.1 -0.1)\">\n       <defs>\n        <path d=\"M 2419 4116 \nL 825 1625 \nL 2419 1625 \nL 2419 4116 \nz\nM 2253 4666 \nL 3047 4666 \nL 3047 1625 \nL 3713 1625 \nL 3713 1100 \nL 3047 1100 \nL 3047 0 \nL 2419 0 \nL 2419 1100 \nL 313 1100 \nL 313 1709 \nL 2253 4666 \nz\n\" id=\"DejaVuSans-34\" transform=\"scale(0.015625)\"/>\n       </defs>\n       <use xlink:href=\"#DejaVuSans-30\"/>\n       <use x=\"63.623047\" xlink:href=\"#DejaVuSans-2e\"/>\n       <use x=\"95.410156\" xlink:href=\"#DejaVuSans-34\"/>\n      </g>\n     </g>\n    </g>\n    <g id=\"ytick_5\">\n     <g id=\"line2d_14\">\n      <g>\n       <use style=\"stroke:#000000;stroke-width:0.8;\" x=\"38.482813\" xlink:href=\"#ma1385e7604\" y=\"83.097757\"/>\n      </g>\n     </g>\n     <g id=\"text_14\">\n      <!-- 0.6 -->\n      <g transform=\"translate(15.579688 86.896976)scale(0.1 -0.1)\">\n       <defs>\n        <path d=\"M 2113 2584 \nQ 1688 2584 1439 2293 \nQ 1191 2003 1191 1497 \nQ 1191 994 1439 701 \nQ 1688 409 2113 409 \nQ 2538 409 2786 701 \nQ 3034 994 3034 1497 \nQ 3034 2003 2786 2293 \nQ 2538 2584 2113 2584 \nz\nM 3366 4563 \nL 3366 3988 \nQ 3128 4100 2886 4159 \nQ 2644 4219 2406 4219 \nQ 1781 4219 1451 3797 \nQ 1122 3375 1075 2522 \nQ 1259 2794 1537 2939 \nQ 1816 3084 2150 3084 \nQ 2853 3084 3261 2657 \nQ 3669 2231 3669 1497 \nQ 3669 778 3244 343 \nQ 2819 -91 2113 -91 \nQ 1303 -91 875 529 \nQ 447 1150 447 2328 \nQ 447 3434 972 4092 \nQ 1497 4750 2381 4750 \nQ 2619 4750 2861 4703 \nQ 3103 4656 3366 4563 \nz\n\" id=\"DejaVuSans-36\" transform=\"scale(0.015625)\"/>\n       </defs>\n       <use xlink:href=\"#DejaVuSans-30\"/>\n       <use x=\"63.623047\" xlink:href=\"#DejaVuSans-2e\"/>\n       <use x=\"95.410156\" xlink:href=\"#DejaVuSans-36\"/>\n      </g>\n     </g>\n    </g>\n    <g id=\"ytick_6\">\n     <g id=\"line2d_15\">\n      <g>\n       <use style=\"stroke:#000000;stroke-width:0.8;\" x=\"38.482813\" xlink:href=\"#ma1385e7604\" y=\"51.11356\"/>\n      </g>\n     </g>\n     <g id=\"text_15\">\n      <!-- 0.8 -->\n      <g transform=\"translate(15.579688 54.912779)scale(0.1 -0.1)\">\n       <defs>\n        <path d=\"M 2034 2216 \nQ 1584 2216 1326 1975 \nQ 1069 1734 1069 1313 \nQ 1069 891 1326 650 \nQ 1584 409 2034 409 \nQ 2484 409 2743 651 \nQ 3003 894 3003 1313 \nQ 3003 1734 2745 1975 \nQ 2488 2216 2034 2216 \nz\nM 1403 2484 \nQ 997 2584 770 2862 \nQ 544 3141 544 3541 \nQ 544 4100 942 4425 \nQ 1341 4750 2034 4750 \nQ 2731 4750 3128 4425 \nQ 3525 4100 3525 3541 \nQ 3525 3141 3298 2862 \nQ 3072 2584 2669 2484 \nQ 3125 2378 3379 2068 \nQ 3634 1759 3634 1313 \nQ 3634 634 3220 271 \nQ 2806 -91 2034 -91 \nQ 1263 -91 848 271 \nQ 434 634 434 1313 \nQ 434 1759 690 2068 \nQ 947 2378 1403 2484 \nz\nM 1172 3481 \nQ 1172 3119 1398 2916 \nQ 1625 2713 2034 2713 \nQ 2441 2713 2670 2916 \nQ 2900 3119 2900 3481 \nQ 2900 3844 2670 4047 \nQ 2441 4250 2034 4250 \nQ 1625 4250 1398 4047 \nQ 1172 3844 1172 3481 \nz\n\" id=\"DejaVuSans-38\" transform=\"scale(0.015625)\"/>\n       </defs>\n       <use xlink:href=\"#DejaVuSans-30\"/>\n       <use x=\"63.623047\" xlink:href=\"#DejaVuSans-2e\"/>\n       <use x=\"95.410156\" xlink:href=\"#DejaVuSans-38\"/>\n      </g>\n     </g>\n    </g>\n    <g id=\"ytick_7\">\n     <g id=\"line2d_16\">\n      <g>\n       <use style=\"stroke:#000000;stroke-width:0.8;\" x=\"38.482813\" xlink:href=\"#ma1385e7604\" y=\"19.129363\"/>\n      </g>\n     </g>\n     <g id=\"text_16\">\n      <!-- 1.0 -->\n      <g transform=\"translate(15.579688 22.928582)scale(0.1 -0.1)\">\n       <use xlink:href=\"#DejaVuSans-31\"/>\n       <use x=\"63.623047\" xlink:href=\"#DejaVuSans-2e\"/>\n       <use x=\"95.410156\" xlink:href=\"#DejaVuSans-30\"/>\n      </g>\n     </g>\n    </g>\n   </g>\n   <g id=\"patch_3\">\n    <path d=\"M 38.482813 224.64 \nL 38.482813 7.2 \n\" style=\"fill:none;stroke:#000000;stroke-linecap:square;stroke-linejoin:miter;stroke-width:0.8;\"/>\n   </g>\n   <g id=\"patch_4\">\n    <path d=\"M 373.282813 224.64 \nL 373.282813 7.2 \n\" style=\"fill:none;stroke:#000000;stroke-linecap:square;stroke-linejoin:miter;stroke-width:0.8;\"/>\n   </g>\n   <g id=\"patch_5\">\n    <path d=\"M 38.482812 224.64 \nL 373.282812 224.64 \n\" style=\"fill:none;stroke:#000000;stroke-linecap:square;stroke-linejoin:miter;stroke-width:0.8;\"/>\n   </g>\n   <g id=\"patch_6\">\n    <path d=\"M 38.482812 7.2 \nL 373.282812 7.2 \n\" style=\"fill:none;stroke:#000000;stroke-linecap:square;stroke-linejoin:miter;stroke-width:0.8;\"/>\n   </g>\n  </g>\n </g>\n <defs>\n  <clipPath id=\"pa8f11466d8\">\n   <rect height=\"217.44\" width=\"334.8\" x=\"38.482813\" y=\"7.2\"/>\n  </clipPath>\n </defs>\n</svg>\n",
      "image/png": "[encoded data removed]"
     },
     "metadata": {
      "needs_background": "light"
     }
    }
   ],
   "source": [
    "plt.scatter(xarray, sinc_model_predictions, s=0.1)"
   ]
  },
  {
   "cell_type": "code",
   "execution_count": null,
   "metadata": {},
   "outputs": [],
   "source": []
  }
 ]
}